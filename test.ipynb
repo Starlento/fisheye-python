{
 "cells": [
  {
   "cell_type": "code",
   "execution_count": 16,
   "metadata": {},
   "outputs": [],
   "source": [
    "import numpy as np\n",
    "import cv2\n",
    "import math"
   ]
  },
  {
   "cell_type": "code",
   "execution_count": 18,
   "metadata": {},
   "outputs": [
    {
     "name": "stdout",
     "output_type": "stream",
     "text": [
      "{'fx': 171.4874831559185, 'fy': 171.4874831559185, 'cx': 640.0, 'cy': 480.0, 'width': 1280, 'height': 960}\n"
     ]
    },
    {
     "data": {
      "text/plain": [
       "True"
      ]
     },
     "execution_count": 18,
     "metadata": {},
     "output_type": "execute_result"
    }
   ],
   "source": [
    "# Your existing data\n",
    "inv_poly_param = [889.91582358, 528.72413142, -20.52846684, 67.73730056, 48.02888563,\n",
    "                  -14.14051173, 20.22746961, 38.15325087, -6.98641569, -26.68100659,\n",
    "                  -12.41222046, -1.83261524]\n",
    "poly_param     = [-5.72041404e+02, 0.0, 6.76008376e-04, -3.97814203e-07, 5.05496647e-10]\n",
    "affine_param   = [9.99949231e-01, -4.44517298e-04, 6.30993143e-04, 9.68732891e+02, 7.48514758e+02]\n",
    "\n",
    "# Read your image (1920x1536 expected)\n",
    "img = cv2.imread(\"./assets/SurCam01.jpeg\", cv2.IMREAD_COLOR)\n",
    "assert img is not None, \"Image not found. Check the path.\"\n",
    "\n",
    "# Pinhole model: 1280×960, ~90° horizontal FOV\n",
    "Wp, Hp = 1280, 960\n",
    "FOV = 150\n",
    "fx = (Wp/2.0) / math.tan(math.radians(FOV/2.0))\n",
    "pinhole = dict(fx=fx, fy=fx, cx=Wp/2.0, cy=Hp/2.0, width=Wp, height=Hp)\n",
    "print(pinhole)\n",
    "# Reproject & save\n",
    "from fisheye_transform import fisheye_to_pinhole\n",
    "pinhole_img = fisheye_to_pinhole(img, 1, pinhole)\n",
    "cv2.imwrite(\"pinhole_from_fisheye.png\", pinhole_img)"
   ]
  },
  {
   "cell_type": "code",
   "execution_count": null,
   "metadata": {},
   "outputs": [],
   "source": []
  }
 ],
 "metadata": {
  "kernelspec": {
   "display_name": "default",
   "language": "python",
   "name": "python3"
  },
  "language_info": {
   "codemirror_mode": {
    "name": "ipython",
    "version": 3
   },
   "file_extension": ".py",
   "mimetype": "text/x-python",
   "name": "python",
   "nbconvert_exporter": "python",
   "pygments_lexer": "ipython3",
   "version": "3.11.9"
  }
 },
 "nbformat": 4,
 "nbformat_minor": 2
}
